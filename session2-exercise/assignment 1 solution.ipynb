{
 "cells": [
  {
   "cell_type": "code",
   "execution_count": 7,
   "id": "5dddbda1-6208-4ee7-a888-5e6506e47bba",
   "metadata": {},
   "outputs": [],
   "source": [
    "import pytest\n",
    "_ = 123456789  # just  wrong number, please ignore\n",
    "\n",
    "# Black box model\n",
    "# 1. Calculate the specific yield coefficients (C-mol) for all products.\n",
    "\n",
    "# The yields are given by d_product/d_glucose\n",
    "d_glucose = 20 - 0          #g/L\n",
    "d_biomass = 2.74 - 0.02     #g DW/l\n",
    "d_ethanol = 10 - 0          #g/l\n",
    "d_glycerol = 1.54           #g/l\n",
    "\n",
    "Y_sx_mass = d_biomass / d_glucose\n",
    "Y_se_mass = d_ethanol / d_glucose\n",
    "Y_sg_mass = d_glycerol / d_glucose\n",
    "\n",
    "#calculate cmol molecular weights\n",
    "\n",
    "C = 12.0\n",
    "H = 1.01\n",
    "O = 16.0\n",
    "N = 14.0\n",
    "\n",
    "molw_cmol = dict()\n",
    "molw_cmol[\"biomass\"] = C + H*1.8 + O*0.5 + N*0.2\n",
    "molw_cmol[\"ethanol\"] = (C*2 + H*5 + O + H)/2\n",
    "molw_cmol[\"glycerol\"] = (C*3 + H*8 + O*3)/3\n",
    "molw_cmol[\"glucose\"] = (C*6 + H*12 + O*6)/6\n",
    "\n",
    "#convert to cmol/cmol\n",
    "\n",
    "Y_sx = Y_sx_mass * molw_cmol[\"glucose\"] / molw_cmol[\"biomass\"]\n",
    "Y_se = Y_se_mass * molw_cmol[\"glucose\"] / molw_cmol[\"ethanol\"]\n",
    "Y_sg = Y_sg_mass * molw_cmol[\"glucose\"] / molw_cmol[\"glycerol\"]\n",
    "\n",
    "\n",
    "def test_Y_sx():\n",
    "    assert Y_sx == pytest.approx(0.166, .01)\n",
    "\n",
    "def test_Y_se():\n",
    "    assert Y_se == pytest.approx(0.652, .01)\n",
    "\n",
    "def test_Y_sg():\n",
    "    assert Y_sg == pytest.approx(0.075, .01)\n",
    "  "
   ]
  },
  {
   "cell_type": "code",
   "execution_count": 13,
   "id": "7403dae7-2ac6-41f8-b447-6e2a8c0c3421",
   "metadata": {},
   "outputs": [],
   "source": [
    "carbon_balance = 1 - Y_sx - Y_se - Y_sg\n",
    "\n"
   ]
  },
  {
   "cell_type": "code",
   "execution_count": 15,
   "id": "721e1c0c-3a03-486b-9593-1e0fb4d52711",
   "metadata": {},
   "outputs": [
    {
     "data": {
      "text/plain": [
       "0.10709050030828479"
      ]
     },
     "execution_count": 15,
     "metadata": {},
     "output_type": "execute_result"
    }
   ],
   "source": [
    "carbon_balance"
   ]
  },
  {
   "cell_type": "code",
   "execution_count": 18,
   "id": "bcce96b3-8b66-4858-9ef1-603cc5f0817b",
   "metadata": {},
   "outputs": [],
   "source": [
    "Y_sc_mass = carbon_balance * (C+2*O) / molw_cmol[\"glucose\"]\n",
    "co2_produced = Y_sc_mass * d_glucose"
   ]
  },
  {
   "cell_type": "code",
   "execution_count": 19,
   "id": "05bfd210-8a8e-4ee8-8629-4bacf03126d4",
   "metadata": {},
   "outputs": [
    {
     "data": {
      "text/plain": [
       "3.139314539777269"
      ]
     },
     "execution_count": 19,
     "metadata": {},
     "output_type": "execute_result"
    }
   ],
   "source": [
    "co2_produced"
   ]
  },
  {
   "cell_type": "code",
   "execution_count": null,
   "id": "d87ab9ea-af28-4507-a370-752e9c985da4",
   "metadata": {},
   "outputs": [],
   "source": []
  }
 ],
 "metadata": {
  "kernelspec": {
   "display_name": "Python 3",
   "language": "python",
   "name": "python3"
  },
  "language_info": {
   "codemirror_mode": {
    "name": "ipython",
    "version": 3
   },
   "file_extension": ".py",
   "mimetype": "text/x-python",
   "name": "python",
   "nbconvert_exporter": "python",
   "pygments_lexer": "ipython3",
   "version": "3.7.7"
  }
 },
 "nbformat": 4,
 "nbformat_minor": 5
}
